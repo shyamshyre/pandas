{
 "cells": [
  {
   "cell_type": "markdown",
   "id": "631017b8",
   "metadata": {},
   "source": [
    "###### String Operations using Panda's\n",
    "##### Note : Right now its object data type, But in future it may turn upto StringDtype\n"
   ]
  },
  {
   "cell_type": "code",
   "execution_count": 7,
   "id": "490aa023",
   "metadata": {},
   "outputs": [],
   "source": [
    "# Assign a String  hello to variable mystring\n",
    "mystring=\"hello\""
   ]
  },
  {
   "cell_type": "code",
   "execution_count": 8,
   "id": "64013e41",
   "metadata": {},
   "outputs": [
    {
     "data": {
      "text/plain": [
       "'Hello'"
      ]
     },
     "execution_count": 8,
     "metadata": {},
     "output_type": "execute_result"
    }
   ],
   "source": [
    "# Convert the mystring variable to capital letters using capitalize\n",
    "mystring.capitalize()"
   ]
  },
  {
   "cell_type": "code",
   "execution_count": 9,
   "id": "baaee646",
   "metadata": {},
   "outputs": [
    {
     "data": {
      "text/plain": [
       "False"
      ]
     },
     "execution_count": 9,
     "metadata": {},
     "output_type": "execute_result"
    }
   ],
   "source": [
    "# Verify whether the string is text/dight\n",
    "mystring.isdigit()"
   ]
  },
  {
   "cell_type": "code",
   "execution_count": 10,
   "id": "11ee12ef",
   "metadata": {},
   "outputs": [],
   "source": [
    "# import pandas library\n",
    "import pandas as pd"
   ]
  },
  {
   "cell_type": "code",
   "execution_count": 12,
   "id": "06d032da",
   "metadata": {},
   "outputs": [],
   "source": [
    "# Convert the following elements into series 'andrew','bobo','claire','david','4'\n",
    "names= pd.Series(['andrew','bobo','claire','david','4'])"
   ]
  },
  {
   "cell_type": "code",
   "execution_count": 13,
   "id": "cf96ec8e",
   "metadata": {},
   "outputs": [
    {
     "data": {
      "text/plain": [
       "0    andrew\n",
       "1      bobo\n",
       "2    claire\n",
       "3     david\n",
       "4         4\n",
       "dtype: object"
      ]
     },
     "execution_count": 13,
     "metadata": {},
     "output_type": "execute_result"
    }
   ],
   "source": [
    "# Display the converted data.\n",
    "names"
   ]
  },
  {
   "cell_type": "code",
   "execution_count": 15,
   "id": "6e5ff58b",
   "metadata": {},
   "outputs": [
    {
     "data": {
      "text/plain": [
       "0    Andrew\n",
       "1      Bobo\n",
       "2    Claire\n",
       "3     David\n",
       "4         4\n",
       "dtype: object"
      ]
     },
     "execution_count": 15,
     "metadata": {},
     "output_type": "execute_result"
    }
   ],
   "source": [
    "# Convert all the String's in the Series to Capital String's\n",
    "names.str.capitalize()"
   ]
  },
  {
   "cell_type": "code",
   "execution_count": 16,
   "id": "164500c7",
   "metadata": {},
   "outputs": [
    {
     "data": {
      "text/plain": [
       "0    False\n",
       "1    False\n",
       "2    False\n",
       "3    False\n",
       "4     True\n",
       "dtype: bool"
      ]
     },
     "execution_count": 16,
     "metadata": {},
     "output_type": "execute_result"
    }
   ],
   "source": [
    "# Validate whether the string are numerics or not\n",
    "names.str.isdigit()"
   ]
  },
  {
   "cell_type": "markdown",
   "id": "e01e9c4e",
   "metadata": {},
   "source": [
    "## Splitting , Grabbing, and Expanding "
   ]
  },
  {
   "cell_type": "code",
   "execution_count": 17,
   "id": "db21ef38",
   "metadata": {},
   "outputs": [],
   "source": [
    "# Accept the 'GooGL,APPL,AMZN','JPM,BAC,GS' in the List and convert them to Series.\n",
    "tech_finance=['GooGL,APPL,AMZN','JPM,BAC,GS']"
   ]
  },
  {
   "cell_type": "code",
   "execution_count": 18,
   "id": "d2709e43",
   "metadata": {},
   "outputs": [
    {
     "data": {
      "text/plain": [
       "2"
      ]
     },
     "execution_count": 18,
     "metadata": {},
     "output_type": "execute_result"
    }
   ],
   "source": [
    "# Display the length of the array\n",
    "len(tech_finance)"
   ]
  },
  {
   "cell_type": "code",
   "execution_count": 19,
   "id": "93f8626e",
   "metadata": {},
   "outputs": [],
   "source": [
    "# Convert the array into Series and assign it to tickers\n",
    "tickers= pd.Series(tech_finance)"
   ]
  },
  {
   "cell_type": "code",
   "execution_count": 20,
   "id": "3e702525",
   "metadata": {},
   "outputs": [
    {
     "data": {
      "text/plain": [
       "0    GooGL,APPL,AMZN\n",
       "1         JPM,BAC,GS\n",
       "dtype: object"
      ]
     },
     "execution_count": 20,
     "metadata": {},
     "output_type": "execute_result"
    }
   ],
   "source": [
    "# Display the ticker\n",
    "tickers"
   ]
  },
  {
   "cell_type": "code",
   "execution_count": 25,
   "id": "0cea0f43",
   "metadata": {},
   "outputs": [
    {
     "data": {
      "text/plain": [
       "['GooGL', 'APPL', 'AMZN']"
      ]
     },
     "execution_count": 25,
     "metadata": {},
     "output_type": "execute_result"
    }
   ],
   "source": [
    "# Fetch the first row from tickers and split them by ,\n",
    "x= tickers.str.split(\",\")[0]\n",
    "x"
   ]
  },
  {
   "cell_type": "code",
   "execution_count": 35,
   "id": "d976fb88",
   "metadata": {},
   "outputs": [
    {
     "data": {
      "text/plain": [
       "list"
      ]
     },
     "execution_count": 35,
     "metadata": {},
     "output_type": "execute_result"
    }
   ],
   "source": [
    "type(x)"
   ]
  },
  {
   "cell_type": "code",
   "execution_count": 36,
   "id": "62aa8f0e",
   "metadata": {},
   "outputs": [
    {
     "data": {
      "text/plain": [
       "'JPM'"
      ]
     },
     "execution_count": 36,
     "metadata": {},
     "output_type": "execute_result"
    }
   ],
   "source": [
    "# fetching the column values seperately\n",
    "x[0]"
   ]
  },
  {
   "cell_type": "code",
   "execution_count": 29,
   "id": "a2ff6864",
   "metadata": {},
   "outputs": [
    {
     "data": {
      "text/plain": [
       "0    APPL\n",
       "1     BAC\n",
       "dtype: object"
      ]
     },
     "execution_count": 29,
     "metadata": {},
     "output_type": "execute_result"
    }
   ],
   "source": [
    "# Split the second row by comma\n",
    "y= tickers.str.split(\",\").str[1]\n",
    "y"
   ]
  },
  {
   "cell_type": "code",
   "execution_count": 30,
   "id": "00d935b6",
   "metadata": {},
   "outputs": [
    {
     "data": {
      "text/plain": [
       "dtype('O')"
      ]
     },
     "execution_count": 30,
     "metadata": {},
     "output_type": "execute_result"
    }
   ],
   "source": [
    "y.dtype"
   ]
  },
  {
   "cell_type": "code",
   "execution_count": 38,
   "id": "c8abc6b4",
   "metadata": {},
   "outputs": [],
   "source": [
    "# Create a variable meessy_names and provide following elements as the list\n",
    "# Input::'andrew',\"bo;bo\",\"  clarie \""
   ]
  },
  {
   "cell_type": "code",
   "execution_count": 39,
   "id": "c4bbfbf5",
   "metadata": {},
   "outputs": [],
   "source": [
    "messy_names=pd.Series(['andrew',\"bo;bo\",\"  clarie \"])"
   ]
  },
  {
   "cell_type": "code",
   "execution_count": 40,
   "id": "9b2167a1",
   "metadata": {},
   "outputs": [
    {
     "data": {
      "text/plain": [
       "0       andrew\n",
       "1        bo;bo\n",
       "2      clarie \n",
       "dtype: object"
      ]
     },
     "execution_count": 40,
     "metadata": {},
     "output_type": "execute_result"
    }
   ],
   "source": [
    "messy_names"
   ]
  },
  {
   "cell_type": "code",
   "execution_count": 47,
   "id": "bc97f0b1",
   "metadata": {},
   "outputs": [
    {
     "data": {
      "text/plain": [
       "0    Andrew\n",
       "1      Bobo\n",
       "2    Clarie\n",
       "dtype: object"
      ]
     },
     "execution_count": 47,
     "metadata": {},
     "output_type": "execute_result"
    }
   ],
   "source": [
    "messy_names.str.replace(';','').str.strip().str.capitalize()"
   ]
  },
  {
   "cell_type": "code",
   "execution_count": 62,
   "id": "cedee619",
   "metadata": {},
   "outputs": [],
   "source": [
    "# Write custom function to clean the data and apply it to the messayname\n",
    "def clean_messyName(name):\n",
    "    name\n",
    "    clean_name = name.strip()\n",
    "    clean_name=  clean_name.replace(';','')\n",
    "    clean_name = clean_name.capitalize()\n",
    "    return clean_name\n",
    "    "
   ]
  },
  {
   "cell_type": "code",
   "execution_count": 63,
   "id": "be5d1b21",
   "metadata": {},
   "outputs": [
    {
     "data": {
      "text/plain": [
       "0    Andrew\n",
       "1      Bobo\n",
       "2    Clarie\n",
       "dtype: object"
      ]
     },
     "execution_count": 63,
     "metadata": {},
     "output_type": "execute_result"
    }
   ],
   "source": [
    "result= messy_names.apply(clean_messyName)\n",
    "result"
   ]
  },
  {
   "cell_type": "code",
   "execution_count": 65,
   "id": "6d4d5572",
   "metadata": {},
   "outputs": [],
   "source": [
    "# There are way to improve effeciency (Remember vectorize , when cleaning the data as they convert to numpy arrays which gives more performance)\n",
    "import timeit \n",
    "  \n",
    "# code snippet to be executed only once \n",
    "setup = '''\n",
    "import pandas as pd\n",
    "import numpy as np\n",
    "messy_names = pd.Series([\"andrew  \",\"bo;bo\",\"  claire  \"])\n",
    "def cleanup(name):\n",
    "    name = name.replace(\";\",\"\")\n",
    "    name = name.strip()\n",
    "    name = name.capitalize()\n",
    "    return name\n",
    "'''\n",
    "  \n",
    "# code snippet whose execution time is to be measured \n",
    "stmt_pandas_str = ''' \n",
    "messy_names.str.replace(\";\",\"\").str.strip().str.capitalize()\n",
    "'''\n",
    "\n",
    "stmt_pandas_apply = '''\n",
    "messy_names.apply(cleanup)\n",
    "'''\n",
    "\n",
    "stmt_pandas_vectorize='''\n",
    "np.vectorize(cleanup)(messy_names)\n",
    "'''"
   ]
  },
  {
   "cell_type": "code",
   "execution_count": 70,
   "id": "00bf8c33",
   "metadata": {},
   "outputs": [
    {
     "data": {
      "text/plain": [
       "7.284209733999887"
      ]
     },
     "execution_count": 70,
     "metadata": {},
     "output_type": "execute_result"
    }
   ],
   "source": [
    "# In the setup block initalization of the data is taken place.\n",
    "timeit.timeit(setup = setup, \n",
    "                    stmt = stmt_pandas_str, \n",
    "                    number = 10000) "
   ]
  },
  {
   "cell_type": "code",
   "execution_count": 67,
   "id": "0b841cf5",
   "metadata": {},
   "outputs": [
    {
     "data": {
      "text/plain": [
       "2.111603031999948"
      ]
     },
     "execution_count": 67,
     "metadata": {},
     "output_type": "execute_result"
    }
   ],
   "source": [
    "timeit.timeit(setup = setup, \n",
    "                    stmt = stmt_pandas_apply, \n",
    "                    number = 10000) "
   ]
  },
  {
   "cell_type": "code",
   "execution_count": 68,
   "id": "9f42b9f3",
   "metadata": {},
   "outputs": [
    {
     "data": {
      "text/plain": [
       "0.6660427439996965"
      ]
     },
     "execution_count": 68,
     "metadata": {},
     "output_type": "execute_result"
    }
   ],
   "source": [
    "timeit.timeit(setup=setup, stmt= stmt_pandas_vectorize,\n",
    "             number=10000)"
   ]
  },
  {
   "cell_type": "code",
   "execution_count": null,
   "id": "651a9619",
   "metadata": {},
   "outputs": [],
   "source": []
  }
 ],
 "metadata": {
  "kernelspec": {
   "display_name": "Python 3",
   "language": "python",
   "name": "python3"
  },
  "language_info": {
   "codemirror_mode": {
    "name": "ipython",
    "version": 3
   },
   "file_extension": ".py",
   "mimetype": "text/x-python",
   "name": "python",
   "nbconvert_exporter": "python",
   "pygments_lexer": "ipython3",
   "version": "3.9.1"
  }
 },
 "nbformat": 4,
 "nbformat_minor": 5
}
